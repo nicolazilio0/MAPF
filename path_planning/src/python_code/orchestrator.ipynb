{
 "cells": [
  {
   "cell_type": "code",
   "execution_count": 19,
   "metadata": {},
   "outputs": [],
   "source": [
    "import numpy as np\n",
    "import matplotlib.pyplot as plt\n",
    "from rrt_star import RRTStarDubins\n",
    "import time"
   ]
  },
  {
   "cell_type": "code",
   "execution_count": 20,
   "metadata": {},
   "outputs": [],
   "source": [
    "obstacleList = [\n",
    "    [-5.6749, 1.20558, 0.521155],\n",
    "    [-3.42783, -2.3167, 0.620818],\n",
    "    [2.07, 5.36304, 0.534224],\n",
    "    [-2.02172, -3.82217, 0.462809],\n",
    "    [1.09052, -0.990239, 0.644405],\n",
    "    [-4, 6.92, 0.01],\n",
    "    [-4, 6.92, 0.01],\n",
    "    [-3.6, 6.92, 0.01],\n",
    "    [-3.2, 6.92, 0.01],\n",
    "    [-2.8, 6.92, 0.01],\n",
    "    [-2.4, 6.92, 0.01],\n",
    "    [-2, 6.92, 0.01],\n",
    "    [-1.6, 6.92, 0.01],\n",
    "    [-1.2, 6.92, 0.01],\n",
    "    [-0.8, 6.92, 0.01],\n",
    "    [-0.4, 6.92, 0.01],\n",
    "    [0, 6.92, 0.01],\n",
    "    [0.4, 6.92, 0.01],\n",
    "    [0.8, 6.92, 0.01],\n",
    "    [1.2, 6.92, 0.01],\n",
    "    [1.6, 6.92, 0.01],\n",
    "    [2, 6.92, 0.01],\n",
    "    [2.4, 6.92, 0.01],\n",
    "    [2.8, 6.92, 0.01],\n",
    "    [3.2, 6.92, 0.01],\n",
    "    [3.6, 6.92, 0.01],\n",
    "    [4, 6.92, 0.01],\n",
    "    [4.2, 6.574, 0.01],\n",
    "    [4.4, 6.228, 0.01],\n",
    "    [4.6, 5.882, 0.01],\n",
    "    [4.8, 5.536, 0.01],\n",
    "    [5, 5.19, 0.01],\n",
    "    [5.2, 4.844, 0.01],\n",
    "    [5.4, 4.498, 0.01],\n",
    "    [5.6, 4.152, 0.01],\n",
    "    [5.8, 3.806, 0.01],\n",
    "    [6, 3.46, 0.01],\n",
    "    [6.2, 3.114, 0.01],\n",
    "    [6.4, 2.768, 0.01],\n",
    "    [6.6, 2.422, 0.01],\n",
    "    [6.8, 2.076, 0.01],\n",
    "    [7, 1.73, 0.01],\n",
    "    [7.2, 1.384, 0.01],\n",
    "    [7.4, 1.038, 0.01],\n",
    "    [7.6, 0.692, 0.01],\n",
    "    [7.8, 0.346, 0.01],\n",
    "    [8, 0, 0.01],\n",
    "    [7.8, -0.346, 0.01],\n",
    "    [7.6, -0.692, 0.01],\n",
    "    [7.4, -1.038, 0.01],\n",
    "    [7.2, -1.384, 0.01],\n",
    "    [7, -1.73, 0.01],\n",
    "    [6.8, -2.076, 0.01],\n",
    "    [6.6, -2.422, 0.01],\n",
    "    [6.4, -2.768, 0.01],\n",
    "    [6.2, -3.114, 0.01],\n",
    "    [6, -3.46, 0.01],\n",
    "    [5.8, -3.806, 0.01],\n",
    "    [5.6, -4.152, 0.01],\n",
    "    [5.4, -4.498, 0.01],\n",
    "    [5.2, -4.844, 0.01],\n",
    "    [5, -5.19, 0.01],\n",
    "    [4.8, -5.536, 0.01],\n",
    "    [4.6, -5.882, 0.01],\n",
    "    [4.4, -6.228, 0.01],\n",
    "    [4.2, -6.574, 0.01],\n",
    "    [4, -6.92, 0.01],\n",
    "    [3.6, -6.92, 0.01],\n",
    "    [3.2, -6.92, 0.01],\n",
    "    [2.8, -6.92, 0.01],\n",
    "    [2.4, -6.92, 0.01],\n",
    "    [2, -6.92, 0.01],\n",
    "    [1.6, -6.92, 0.01],\n",
    "    [1.2, -6.92, 0.01],\n",
    "    [0.8, -6.92, 0.01],\n",
    "    [0.4, -6.92, 0.01],\n",
    "    [0, -6.92, 0.01],\n",
    "    [-0.4, -6.92, 0.01],\n",
    "    [-0.8, -6.92, 0.01],\n",
    "    [-1.2, -6.92, 0.01],\n",
    "    [-1.6, -6.92, 0.01],\n",
    "    [-2, -6.92, 0.01],\n",
    "    [-2.4, -6.92, 0.01],\n",
    "    [-2.8, -6.92, 0.01],\n",
    "    [-3.2, -6.92, 0.01],\n",
    "    [-3.6, -6.92, 0.01],\n",
    "    [-4, -6.92, 0.01],\n",
    "    [-4.2, -6.574, 0.01],\n",
    "    [-4.4, -6.228, 0.01],\n",
    "    [-4.6, -5.882, 0.01],\n",
    "    [-4.8, -5.536, 0.01],\n",
    "    [-5, -5.19, 0.01],\n",
    "    [-5.2, -4.844, 0.01],\n",
    "    [-5.4, -4.498, 0.01],\n",
    "    [-5.6, -4.152, 0.01],\n",
    "    [-5.8, -3.806, 0.01],\n",
    "    [-6, -3.46, 0.01],\n",
    "    [-6.2, -3.114, 0.01],\n",
    "    [-6.4, -2.768, 0.01],\n",
    "    [-6.6, -2.422, 0.01],\n",
    "    [-6.8, -2.076, 0.01],\n",
    "    [-7, -1.73, 0.01],\n",
    "    [-7.2, -1.384, 0.01],\n",
    "    [-7.4, -1.038, 0.01],\n",
    "    [-7.6, -0.692, 0.01],\n",
    "    [-7.8, -0.346, 0.01],\n",
    "    [-8, 0, 0.01],\n",
    "    [-7.8, 0.346, 0.01],\n",
    "    [-7.6, 0.692, 0.01], [-7.4, 1.038, 0.01],\n",
    "    [-7.2, 1.384, 0.01],\n",
    "    [-7, 1.73, 0.01],\n",
    "    [-6.8, 2.076, 0.01],\n",
    "    [-6.6, 2.422, 0.01],\n",
    "    [-6.4, 2.768, 0.01],\n",
    "    [-6.2, 3.114, 0.01],\n",
    "    [-6, 3.46, 0.01],\n",
    "    [-5.8, 3.806, 0.01],\n",
    "    [-5.6, 4.152, 0.01],\n",
    "    [-5.4, 4.498, 0.01],\n",
    "    [-5.2, 4.844, 0.01],\n",
    "    [-5, 5.19, 0.01],\n",
    "    [-4.8, 5.536, 0.01],\n",
    "    [-4.6, 5.882, 0.01],\n",
    "    [-4.4, 6.228, 0.01],\n",
    "    [-4.2, 6.574, 0.01],\n",
    "]"
   ]
  },
  {
   "cell_type": "code",
   "execution_count": 21,
   "metadata": {},
   "outputs": [],
   "source": [
    "obstacleList = np.array(obstacleList)"
   ]
  },
  {
   "cell_type": "code",
   "execution_count": 22,
   "metadata": {},
   "outputs": [],
   "source": [
    "rnd_min = -10\n",
    "rnd_max = 10"
   ]
  },
  {
   "cell_type": "code",
   "execution_count": 23,
   "metadata": {},
   "outputs": [
    {
     "name": "stdout",
     "output_type": "stream",
     "text": [
      "Iter: 0 , number of nodes: 1\n",
      "Iter: 1 , number of nodes: 1\n",
      "Iter: 2 , number of nodes: 1\n",
      "Iter: 3 , number of nodes: 1\n",
      "Iter: 4 , number of nodes: 1\n",
      "Iter: 5 , number of nodes: 1\n",
      "Iter: 6 , number of nodes: 1\n",
      "Iter: 7 , number of nodes: 1\n",
      "Iter: 8 , number of nodes: 1\n",
      "Iter: 9 , number of nodes: 1\n",
      "Iter: 10 , number of nodes: 2\n",
      "Iter: 11 , number of nodes: 2\n",
      "Iter: 12 , number of nodes: 2\n",
      "Iter: 13 , number of nodes: 2\n",
      "Iter: 14 , number of nodes: 2\n",
      "Iter: 15 , number of nodes: 2\n",
      "Iter: 16 , number of nodes: 3\n",
      "Iter: 17 , number of nodes: 3\n",
      "Iter: 18 , number of nodes: 3\n",
      "Iter: 19 , number of nodes: 3\n",
      "Iter: 20 , number of nodes: 3\n",
      "Iter: 21 , number of nodes: 4\n",
      "Iter: 22 , number of nodes: 4\n",
      "Iter: 23 , number of nodes: 4\n",
      "Iter: 24 , number of nodes: 4\n",
      "Iter: 25 , number of nodes: 4\n",
      "Iter: 26 , number of nodes: 4\n",
      "Iter: 27 , number of nodes: 4\n",
      "Iter: 28 , number of nodes: 4\n",
      "Iter: 29 , number of nodes: 4\n",
      "Iter: 30 , number of nodes: 4\n",
      "Iter: 31 , number of nodes: 4\n",
      "Iter: 32 , number of nodes: 4\n",
      "Iter: 33 , number of nodes: 4\n",
      "Iter: 34 , number of nodes: 4\n",
      "Iter: 35 , number of nodes: 4\n",
      "Iter: 36 , number of nodes: 4\n",
      "Iter: 37 , number of nodes: 4\n",
      "Iter: 38 , number of nodes: 5\n",
      "Iter: 39 , number of nodes: 5\n",
      "Iter: 40 , number of nodes: 5\n",
      "Iter: 41 , number of nodes: 6\n",
      "Iter: 42 , number of nodes: 6\n",
      "Iter: 43 , number of nodes: 6\n",
      "Iter: 44 , number of nodes: 6\n",
      "Iter: 45 , number of nodes: 6\n",
      "Iter: 46 , number of nodes: 6\n",
      "Iter: 47 , number of nodes: 6\n",
      "Iter: 48 , number of nodes: 6\n",
      "Iter: 49 , number of nodes: 6\n",
      "Iter: 50 , number of nodes: 6\n",
      "Iter: 51 , number of nodes: 6\n",
      "Iter: 52 , number of nodes: 6\n",
      "Iter: 53 , number of nodes: 6\n",
      "Iter: 54 , number of nodes: 6\n",
      "Iter: 55 , number of nodes: 6\n",
      "Iter: 56 , number of nodes: 6\n",
      "Iter: 57 , number of nodes: 6\n",
      "Iter: 58 , number of nodes: 6\n",
      "Iter: 59 , number of nodes: 6\n",
      "Iter: 60 , number of nodes: 6\n",
      "Iter: 61 , number of nodes: 6\n",
      "Iter: 62 , number of nodes: 6\n",
      "Iter: 63 , number of nodes: 6\n",
      "Iter: 64 , number of nodes: 7\n",
      "Iter: 65 , number of nodes: 7\n",
      "Iter: 66 , number of nodes: 7\n",
      "Iter: 67 , number of nodes: 7\n",
      "Iter: 68 , number of nodes: 7\n",
      "Iter: 69 , number of nodes: 7\n",
      "Iter: 70 , number of nodes: 7\n",
      "Iter: 71 , number of nodes: 7\n",
      "Iter: 72 , number of nodes: 7\n",
      "Iter: 73 , number of nodes: 7\n",
      "Iter: 74 , number of nodes: 7\n",
      "Iter: 75 , number of nodes: 7\n",
      "Iter: 76 , number of nodes: 7\n",
      "Iter: 77 , number of nodes: 7\n",
      "Iter: 78 , number of nodes: 7\n",
      "Iter: 79 , number of nodes: 7\n",
      "Iter: 80 , number of nodes: 7\n",
      "Iter: 81 , number of nodes: 7\n",
      "Iter: 82 , number of nodes: 7\n",
      "Iter: 83 , number of nodes: 7\n",
      "Iter: 84 , number of nodes: 8\n",
      "Iter: 85 , number of nodes: 8\n",
      "Iter: 86 , number of nodes: 8\n",
      "Iter: 87 , number of nodes: 8\n",
      "Iter: 88 , number of nodes: 8\n",
      "Iter: 89 , number of nodes: 8\n",
      "Iter: 90 , number of nodes: 8\n",
      "Iter: 91 , number of nodes: 8\n",
      "Iter: 92 , number of nodes: 9\n",
      "Iter: 93 , number of nodes: 9\n",
      "Iter: 94 , number of nodes: 9\n",
      "Iter: 95 , number of nodes: 9\n",
      "Iter: 96 , number of nodes: 9\n",
      "Iter: 97 , number of nodes: 9\n",
      "Iter: 98 , number of nodes: 9\n",
      "Iter: 99 , number of nodes: 9\n",
      "Iter: 100 , number of nodes: 9\n",
      "Iter: 101 , number of nodes: 9\n",
      "Iter: 102 , number of nodes: 9\n",
      "Iter: 103 , number of nodes: 9\n",
      "Iter: 104 , number of nodes: 9\n",
      "Iter: 105 , number of nodes: 10\n",
      "Iter: 106 , number of nodes: 10\n",
      "Iter: 107 , number of nodes: 10\n",
      "Iter: 108 , number of nodes: 10\n",
      "Iter: 109 , number of nodes: 10\n",
      "Iter: 110 , number of nodes: 11\n",
      "Iter: 111 , number of nodes: 11\n",
      "Iter: 112 , number of nodes: 11\n",
      "Iter: 113 , number of nodes: 11\n",
      "Iter: 114 , number of nodes: 11\n",
      "Iter: 115 , number of nodes: 11\n",
      "Iter: 116 , number of nodes: 11\n",
      "Iter: 117 , number of nodes: 11\n",
      "Iter: 118 , number of nodes: 11\n",
      "Iter: 119 , number of nodes: 11\n",
      "Iter: 120 , number of nodes: 11\n",
      "Iter: 121 , number of nodes: 11\n",
      "Iter: 122 , number of nodes: 11\n",
      "Iter: 123 , number of nodes: 11\n",
      "Iter: 124 , number of nodes: 11\n",
      "Iter: 125 , number of nodes: 11\n",
      "Iter: 126 , number of nodes: 11\n",
      "Iter: 127 , number of nodes: 11\n",
      "Iter: 128 , number of nodes: 11\n",
      "Iter: 129 , number of nodes: 11\n",
      "Iter: 130 , number of nodes: 11\n",
      "Iter: 131 , number of nodes: 11\n",
      "Iter: 132 , number of nodes: 11\n",
      "Iter: 133 , number of nodes: 11\n",
      "Iter: 134 , number of nodes: 11\n",
      "Iter: 135 , number of nodes: 11\n",
      "Iter: 136 , number of nodes: 11\n",
      "Iter: 137 , number of nodes: 11\n",
      "Iter: 138 , number of nodes: 11\n",
      "Iter: 139 , number of nodes: 11\n",
      "Iter: 140 , number of nodes: 11\n",
      "Iter: 141 , number of nodes: 11\n",
      "Iter: 142 , number of nodes: 11\n",
      "Iter: 143 , number of nodes: 11\n",
      "Iter: 144 , number of nodes: 11\n",
      "Iter: 145 , number of nodes: 11\n",
      "Iter: 146 , number of nodes: 11\n",
      "Iter: 147 , number of nodes: 11\n",
      "Iter: 148 , number of nodes: 11\n",
      "Iter: 149 , number of nodes: 11\n",
      "Iter: 150 , number of nodes: 11\n",
      "Iter: 151 , number of nodes: 11\n",
      "Iter: 152 , number of nodes: 11\n",
      "Iter: 153 , number of nodes: 11\n",
      "Iter: 154 , number of nodes: 12\n",
      "Iter: 155 , number of nodes: 12\n",
      "Iter: 156 , number of nodes: 13\n",
      "Iter: 157 , number of nodes: 13\n",
      "Iter: 158 , number of nodes: 13\n",
      "Iter: 159 , number of nodes: 13\n",
      "Iter: 160 , number of nodes: 13\n",
      "Iter: 161 , number of nodes: 13\n",
      "Iter: 162 , number of nodes: 13\n",
      "Iter: 163 , number of nodes: 14\n",
      "Iter: 164 , number of nodes: 14\n",
      "Iter: 165 , number of nodes: 15\n",
      "Iter: 166 , number of nodes: 15\n",
      "Iter: 167 , number of nodes: 15\n",
      "Iter: 168 , number of nodes: 15\n",
      "Iter: 169 , number of nodes: 15\n",
      "Iter: 170 , number of nodes: 15\n",
      "Iter: 171 , number of nodes: 15\n",
      "Iter: 172 , number of nodes: 15\n",
      "Iter: 173 , number of nodes: 15\n",
      "Iter: 174 , number of nodes: 15\n",
      "Iter: 175 , number of nodes: 15\n",
      "Iter: 176 , number of nodes: 15\n"
     ]
    }
   ],
   "source": [
    "# Shelfino 0\n",
    "start = [0, 0, np.deg2rad(0.0)]\n",
    "goal = [0.18, -6.42, np.deg2rad(-90)]\n",
    "\n",
    "\n",
    "shelfino0_rrt = RRTStarDubins(start, goal, rand_area=[\n",
    "    rnd_min, rnd_max], obstacle_list=obstacleList, robot_radius=0.5)\n",
    "\n",
    "shelfino0_path = np.array(shelfino0_rrt.planning(\n",
    "    search_until_max_iter=False))[::-1]"
   ]
  },
  {
   "cell_type": "code",
   "execution_count": 24,
   "metadata": {},
   "outputs": [
    {
     "name": "stdout",
     "output_type": "stream",
     "text": [
      "Iter: 0 , number of nodes: 1\n"
     ]
    }
   ],
   "source": [
    "# Shelfino 0\n",
    "start = [-2, 2, np.deg2rad(0.0)]\n",
    "goal = [0.18, -6.42, np.deg2rad(-90)]\n",
    "\n",
    "\n",
    "shelfino1_rrt = RRTStarDubins(start, goal, rand_area=[\n",
    "    rnd_min, rnd_max], obstacle_list=obstacleList, robot_radius=0.5)\n",
    "\n",
    "shelfino1_path = np.array(shelfino1_rrt.planning(\n",
    "    search_until_max_iter=False))[::-1]"
   ]
  },
  {
   "cell_type": "code",
   "execution_count": 25,
   "metadata": {},
   "outputs": [
    {
     "name": "stdout",
     "output_type": "stream",
     "text": [
      "Iter: 0 , number of nodes: 1\n",
      "Iter: 1 , number of nodes: 1\n",
      "Iter: 2 , number of nodes: 2\n",
      "Iter: 3 , number of nodes: 2\n",
      "Iter: 4 , number of nodes: 2\n",
      "Iter: 5 , number of nodes: 2\n",
      "Iter: 6 , number of nodes: 2\n",
      "Iter: 7 , number of nodes: 2\n",
      "Iter: 8 , number of nodes: 2\n",
      "Iter: 9 , number of nodes: 2\n",
      "Iter: 10 , number of nodes: 2\n",
      "Iter: 11 , number of nodes: 2\n",
      "Iter: 12 , number of nodes: 3\n",
      "Iter: 13 , number of nodes: 3\n",
      "Iter: 14 , number of nodes: 3\n",
      "Iter: 15 , number of nodes: 3\n",
      "Iter: 16 , number of nodes: 3\n",
      "Iter: 17 , number of nodes: 3\n",
      "Iter: 18 , number of nodes: 3\n",
      "Iter: 19 , number of nodes: 3\n",
      "Iter: 20 , number of nodes: 3\n",
      "Iter: 21 , number of nodes: 3\n"
     ]
    }
   ],
   "source": [
    "# Shelfino 0\n",
    "start = [2, -2, np.deg2rad(0.0)]\n",
    "goal = [0.18, -6.42, np.deg2rad(-90)]\n",
    "\n",
    "\n",
    "shelfino2_rrt = RRTStarDubins(start, goal, rand_area=[\n",
    "    rnd_min, rnd_max], obstacle_list=obstacleList, robot_radius=0.5)\n",
    "\n",
    "shelfino2_path = np.array(shelfino2_rrt.planning(\n",
    "    search_until_max_iter=False))[::-1]"
   ]
  },
  {
   "cell_type": "code",
   "execution_count": 26,
   "metadata": {},
   "outputs": [],
   "source": [
    "shelfino2_path = shelfino1_path.copy()\n",
    "shelfino2_path[..., 0] = -shelfino2_path[..., 0]"
   ]
  },
  {
   "cell_type": "code",
   "execution_count": 27,
   "metadata": {},
   "outputs": [
    {
     "data": {
      "image/png": "[encoded data removed]",
      "text/plain": [
       "<Figure size 800x800 with 1 Axes>"
      ]
     },
     "metadata": {},
     "output_type": "display_data"
    }
   ],
   "source": [
    "plt.figure(figsize=(8, 8))\n",
    "plt.xlim(-10, 10)\n",
    "plt.ylim(-10, 10)\n",
    "\n",
    "plt.scatter(obstacleList[..., 0], obstacleList[..., 1])\n",
    "plt.scatter(goal[0], goal[1], color='red')\n",
    "# path0\n",
    "plt.plot([x for (x, y) in shelfino0_path], [\n",
    "         y for (x, y) in shelfino0_path], color=\"fuchsia\")\n",
    "plt.plot([x for (x, y) in shelfino1_path], [\n",
    "         y for (x, y) in shelfino1_path], color=\"purple\")\n",
    "plt.plot([x for (x, y) in shelfino2_path], [\n",
    "         y for (x, y) in shelfino2_path], color=\"orange\")\n",
    "plt.show()"
   ]
  },
  {
   "cell_type": "code",
   "execution_count": 28,
   "metadata": {},
   "outputs": [
    {
     "data": {
      "text/plain": [
       "(121, 71, 71)"
      ]
     },
     "execution_count": 28,
     "metadata": {},
     "output_type": "execute_result"
    }
   ],
   "source": [
    "shelfino0_path.shape[0], shelfino1_path.shape[0], shelfino2_path.shape[0]"
   ]
  },
  {
   "cell_type": "code",
   "execution_count": 29,
   "metadata": {},
   "outputs": [],
   "source": [
    "max_timestep = int(max(\n",
    "    shelfino0_path.shape[0], shelfino1_path.shape[0], shelfino2_path.shape[0],) * 2)"
   ]
  },
  {
   "cell_type": "code",
   "execution_count": 30,
   "metadata": {},
   "outputs": [],
   "source": [
    "collision_delay = 2"
   ]
  },
  {
   "cell_type": "code",
   "execution_count": 59,
   "metadata": {},
   "outputs": [],
   "source": [
    "path0_delay = 0\n",
    "path1_delay = 0\n",
    "path2_delay = 0"
   ]
  },
  {
   "cell_type": "code",
   "execution_count": 78,
   "metadata": {},
   "outputs": [],
   "source": [
    "path0_eq = np.full((max_timestep, 2), np.nan)\n",
    "path0_eq[0:path0_delay] = shelfino0_path[0]\n",
    "path0_eq[path0_delay:shelfino0_path.shape[0]+path0_delay] = shelfino0_path"
   ]
  },
  {
   "cell_type": "code",
   "execution_count": 79,
   "metadata": {},
   "outputs": [],
   "source": [
    "path1_eq = np.full((max_timestep, 2), np.nan)\n",
    "path1_eq[0:path1_delay] = shelfino1_path[0]\n",
    "path1_eq[path1_delay:shelfino1_path.shape[0]+path1_delay] = shelfino1_path"
   ]
  },
  {
   "cell_type": "code",
   "execution_count": 80,
   "metadata": {},
   "outputs": [],
   "source": [
    "path2_eq = np.full((max_timestep, 2), np.nan)\n",
    "path2_eq[0:path2_delay] = shelfino2_path[0]\n",
    "path2_eq[path2_delay:shelfino2_path.shape[0]+path2_delay] = shelfino2_path"
   ]
  },
  {
   "cell_type": "code",
   "execution_count": 81,
   "metadata": {},
   "outputs": [],
   "source": [
    "dist = np.stack([\n",
    "    np.linalg.norm(path0_eq-path1_eq, axis=-1),  # path0, path1\n",
    "    np.linalg.norm(path0_eq-path2_eq, axis=-1),  # path0, path2\n",
    "    np.linalg.norm(path1_eq-path2_eq, axis=-1),  # path1, path2\n",
    "    np.linalg.norm(path0_eq-path2_eq, axis=-1)],  # path0, path2\n",
    "    axis=1)"
   ]
  },
  {
   "cell_type": "code",
   "execution_count": 82,
   "metadata": {},
   "outputs": [],
   "source": [
    "collisions = np.where((dist < 0.35) & (dist != np.nan))"
   ]
  },
  {
   "cell_type": "code",
   "execution_count": 83,
   "metadata": {},
   "outputs": [],
   "source": [
    "collision_case = np.unique(collisions[1])"
   ]
  },
  {
   "cell_type": "code",
   "execution_count": 84,
   "metadata": {},
   "outputs": [],
   "source": [
    "for case_ in collision_case:\n",
    "    if case_ == 0:\n",
    "        if (shelfino0_path.shape[0] < shelfino1_path.shape[0]):\n",
    "            path0_delay += collision_delay\n",
    "        else:\n",
    "            path1_delay += collision_delay\n",
    "    elif case_ == 1:\n",
    "        if (shelfino0_path.shape[0] < shelfino2_path.shape[0]):\n",
    "            path0_delay += collision_delay\n",
    "        else:\n",
    "            path2_delay += collision_delay\n",
    "    elif case_ == 2:\n",
    "        if (shelfino1_path.shape[0] < shelfino2_path.shape[0]):\n",
    "            path1_delay += collision_delay\n",
    "        else:\n",
    "            path2_delay += collision_delay\n",
    "    elif case_ == 3:\n",
    "        if (shelfino0_path.shape[0] < shelfino2_path.shape[0]):\n",
    "            path0_delay += collision_delay\n",
    "        else:\n",
    "            path2_delay += collision_delay"
   ]
  },
  {
   "cell_type": "code",
   "execution_count": 85,
   "metadata": {},
   "outputs": [
    {
     "data": {
      "text/plain": [
       "(array([], dtype=int64), array([], dtype=int64))"
      ]
     },
     "execution_count": 85,
     "metadata": {},
     "output_type": "execute_result"
    }
   ],
   "source": [
    "collisions"
   ]
  },
  {
   "cell_type": "code",
   "execution_count": 86,
   "metadata": {},
   "outputs": [
    {
     "data": {
      "text/plain": [
       "(0, 0, 4)"
      ]
     },
     "execution_count": 86,
     "metadata": {},
     "output_type": "execute_result"
    }
   ],
   "source": [
    "path0_delay, path1_delay, path2_delay"
   ]
  }
 ],
 "metadata": {
  "kernelspec": {
   "display_name": "jumpleg",
   "language": "python",
   "name": "python3"
  },
  "language_info": {
   "codemirror_mode": {
    "name": "ipython",
    "version": 3
   },
   "file_extension": ".py",
   "mimetype": "text/x-python",
   "name": "python",
   "nbconvert_exporter": "python",
   "pygments_lexer": "ipython3",
   "version": "3.9.16"
  }
 },
 "nbformat": 4,
 "nbformat_minor": 2
}
