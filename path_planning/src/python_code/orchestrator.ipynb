{
 "cells": [
  {
   "cell_type": "code",
   "execution_count": 266,
   "metadata": {},
   "outputs": [],
   "source": [
    "import numpy as np\n",
    "import matplotlib.pyplot as plt\n",
    "from rrt_star import RRTStarDubins\n",
    "import time"
   ]
  },
  {
   "cell_type": "code",
   "execution_count": 267,
   "metadata": {},
   "outputs": [],
   "source": [
    "obstacleList = [\n",
    "    [-5.6749, 1.20558, 0.521155],\n",
    "    [-3.42783, -2.3167, 0.620818],\n",
    "    [2.07, 5.36304, 0.534224],\n",
    "    [-2.02172, -3.82217, 0.462809],\n",
    "    [1.09052, -0.990239, 0.644405],\n",
    "    [-4, 6.92, 0.01],\n",
    "    [-4, 6.92, 0.01],\n",
    "    [-3.6, 6.92, 0.01],\n",
    "    [-3.2, 6.92, 0.01],\n",
    "    [-2.8, 6.92, 0.01],\n",
    "    [-2.4, 6.92, 0.01],\n",
    "    [-2, 6.92, 0.01],\n",
    "    [-1.6, 6.92, 0.01],\n",
    "    [-1.2, 6.92, 0.01],\n",
    "    [-0.8, 6.92, 0.01],\n",
    "    [-0.4, 6.92, 0.01],\n",
    "    [0, 6.92, 0.01],\n",
    "    [0.4, 6.92, 0.01],\n",
    "    [0.8, 6.92, 0.01],\n",
    "    [1.2, 6.92, 0.01],\n",
    "    [1.6, 6.92, 0.01],\n",
    "    [2, 6.92, 0.01],\n",
    "    [2.4, 6.92, 0.01],\n",
    "    [2.8, 6.92, 0.01],\n",
    "    [3.2, 6.92, 0.01],\n",
    "    [3.6, 6.92, 0.01],\n",
    "    [4, 6.92, 0.01],\n",
    "    [4.2, 6.574, 0.01],\n",
    "    [4.4, 6.228, 0.01],\n",
    "    [4.6, 5.882, 0.01],\n",
    "    [4.8, 5.536, 0.01],\n",
    "    [5, 5.19, 0.01],\n",
    "    [5.2, 4.844, 0.01],\n",
    "    [5.4, 4.498, 0.01],\n",
    "    [5.6, 4.152, 0.01],\n",
    "    [5.8, 3.806, 0.01],\n",
    "    [6, 3.46, 0.01],\n",
    "    [6.2, 3.114, 0.01],\n",
    "    [6.4, 2.768, 0.01],\n",
    "    [6.6, 2.422, 0.01],\n",
    "    [6.8, 2.076, 0.01],\n",
    "    [7, 1.73, 0.01],\n",
    "    [7.2, 1.384, 0.01],\n",
    "    [7.4, 1.038, 0.01],\n",
    "    [7.6, 0.692, 0.01],\n",
    "    [7.8, 0.346, 0.01],\n",
    "    [8, 0, 0.01],\n",
    "    [7.8, -0.346, 0.01],\n",
    "    [7.6, -0.692, 0.01],\n",
    "    [7.4, -1.038, 0.01],\n",
    "    [7.2, -1.384, 0.01],\n",
    "    [7, -1.73, 0.01],\n",
    "    [6.8, -2.076, 0.01],\n",
    "    [6.6, -2.422, 0.01],\n",
    "    [6.4, -2.768, 0.01],\n",
    "    [6.2, -3.114, 0.01],\n",
    "    [6, -3.46, 0.01],\n",
    "    [5.8, -3.806, 0.01],\n",
    "    [5.6, -4.152, 0.01],\n",
    "    [5.4, -4.498, 0.01],\n",
    "    [5.2, -4.844, 0.01],\n",
    "    [5, -5.19, 0.01],\n",
    "    [4.8, -5.536, 0.01],\n",
    "    [4.6, -5.882, 0.01],\n",
    "    [4.4, -6.228, 0.01],\n",
    "    [4.2, -6.574, 0.01],\n",
    "    [4, -6.92, 0.01],\n",
    "    [3.6, -6.92, 0.01],\n",
    "    [3.2, -6.92, 0.01],\n",
    "    [2.8, -6.92, 0.01],\n",
    "    [2.4, -6.92, 0.01],\n",
    "    [2, -6.92, 0.01],\n",
    "    [1.6, -6.92, 0.01],\n",
    "    [1.2, -6.92, 0.01],\n",
    "    [0.8, -6.92, 0.01],\n",
    "    [0.4, -6.92, 0.01],\n",
    "    [0, -6.92, 0.01],\n",
    "    [-0.4, -6.92, 0.01],\n",
    "    [-0.8, -6.92, 0.01],\n",
    "    [-1.2, -6.92, 0.01],\n",
    "    [-1.6, -6.92, 0.01],\n",
    "    [-2, -6.92, 0.01],\n",
    "    [-2.4, -6.92, 0.01],\n",
    "    [-2.8, -6.92, 0.01],\n",
    "    [-3.2, -6.92, 0.01],\n",
    "    [-3.6, -6.92, 0.01],\n",
    "    [-4, -6.92, 0.01],\n",
    "    [-4.2, -6.574, 0.01],\n",
    "    [-4.4, -6.228, 0.01],\n",
    "    [-4.6, -5.882, 0.01],\n",
    "    [-4.8, -5.536, 0.01],\n",
    "    [-5, -5.19, 0.01],\n",
    "    [-5.2, -4.844, 0.01],\n",
    "    [-5.4, -4.498, 0.01],\n",
    "    [-5.6, -4.152, 0.01],\n",
    "    [-5.8, -3.806, 0.01],\n",
    "    [-6, -3.46, 0.01],\n",
    "    [-6.2, -3.114, 0.01],\n",
    "    [-6.4, -2.768, 0.01],\n",
    "    [-6.6, -2.422, 0.01],\n",
    "    [-6.8, -2.076, 0.01],\n",
    "    [-7, -1.73, 0.01],\n",
    "    [-7.2, -1.384, 0.01],\n",
    "    [-7.4, -1.038, 0.01],\n",
    "    [-7.6, -0.692, 0.01],\n",
    "    [-7.8, -0.346, 0.01],\n",
    "    [-8, 0, 0.01],\n",
    "    [-7.8, 0.346, 0.01],\n",
    "    [-7.6, 0.692, 0.01], [-7.4, 1.038, 0.01],\n",
    "    [-7.2, 1.384, 0.01],\n",
    "    [-7, 1.73, 0.01],\n",
    "    [-6.8, 2.076, 0.01],\n",
    "    [-6.6, 2.422, 0.01],\n",
    "    [-6.4, 2.768, 0.01],\n",
    "    [-6.2, 3.114, 0.01],\n",
    "    [-6, 3.46, 0.01],\n",
    "    [-5.8, 3.806, 0.01],\n",
    "    [-5.6, 4.152, 0.01],\n",
    "    [-5.4, 4.498, 0.01],\n",
    "    [-5.2, 4.844, 0.01],\n",
    "    [-5, 5.19, 0.01],\n",
    "    [-4.8, 5.536, 0.01],\n",
    "    [-4.6, 5.882, 0.01],\n",
    "    [-4.4, 6.228, 0.01],\n",
    "    [-4.2, 6.574, 0.01],\n",
    "]"
   ]
  },
  {
   "cell_type": "code",
   "execution_count": 268,
   "metadata": {},
   "outputs": [],
   "source": [
    "obstacleList = np.array(obstacleList)"
   ]
  },
  {
   "cell_type": "code",
   "execution_count": 269,
   "metadata": {},
   "outputs": [],
   "source": [
    "rnd_min = -10\n",
    "rnd_max = 10"
   ]
  },
  {
   "cell_type": "code",
   "execution_count": 270,
   "metadata": {},
   "outputs": [
    {
     "name": "stdout",
     "output_type": "stream",
     "text": [
      "Iter: 0 , number of nodes: 1\n",
      "Iter: 1 , number of nodes: 1\n",
      "Iter: 2 , number of nodes: 1\n",
      "Iter: 3 , number of nodes: 1\n",
      "Iter: 4 , number of nodes: 1\n",
      "Iter: 5 , number of nodes: 1\n",
      "Iter: 6 , number of nodes: 1\n",
      "Iter: 7 , number of nodes: 1\n",
      "Iter: 8 , number of nodes: 1\n",
      "Iter: 9 , number of nodes: 1\n",
      "Iter: 10 , number of nodes: 2\n",
      "Iter: 11 , number of nodes: 2\n",
      "Iter: 12 , number of nodes: 2\n",
      "Iter: 13 , number of nodes: 2\n",
      "Iter: 14 , number of nodes: 2\n",
      "Iter: 15 , number of nodes: 2\n",
      "Iter: 16 , number of nodes: 2\n",
      "Iter: 17 , number of nodes: 2\n",
      "Iter: 18 , number of nodes: 2\n",
      "Iter: 19 , number of nodes: 2\n",
      "Iter: 20 , number of nodes: 2\n",
      "Iter: 21 , number of nodes: 3\n",
      "Iter: 22 , number of nodes: 3\n",
      "Iter: 23 , number of nodes: 3\n",
      "Iter: 24 , number of nodes: 3\n",
      "Iter: 25 , number of nodes: 3\n",
      "Iter: 26 , number of nodes: 3\n",
      "Iter: 27 , number of nodes: 3\n",
      "Iter: 28 , number of nodes: 3\n",
      "Iter: 29 , number of nodes: 3\n",
      "Iter: 30 , number of nodes: 3\n",
      "Iter: 31 , number of nodes: 3\n",
      "Iter: 32 , number of nodes: 3\n",
      "Iter: 33 , number of nodes: 3\n",
      "Iter: 34 , number of nodes: 3\n",
      "Iter: 35 , number of nodes: 3\n",
      "Iter: 36 , number of nodes: 3\n",
      "Iter: 37 , number of nodes: 3\n"
     ]
    },
    {
     "name": "stdout",
     "output_type": "stream",
     "text": [
      "Iter: 38 , number of nodes: 4\n",
      "Iter: 39 , number of nodes: 4\n",
      "Iter: 40 , number of nodes: 4\n",
      "Iter: 41 , number of nodes: 4\n",
      "Iter: 42 , number of nodes: 4\n",
      "Iter: 43 , number of nodes: 4\n",
      "Iter: 44 , number of nodes: 4\n",
      "Iter: 45 , number of nodes: 4\n",
      "Iter: 46 , number of nodes: 4\n",
      "Iter: 47 , number of nodes: 4\n",
      "Iter: 48 , number of nodes: 4\n",
      "Iter: 49 , number of nodes: 4\n",
      "Iter: 50 , number of nodes: 4\n",
      "Iter: 51 , number of nodes: 4\n",
      "Iter: 52 , number of nodes: 4\n",
      "Iter: 53 , number of nodes: 4\n",
      "Iter: 54 , number of nodes: 4\n",
      "Iter: 55 , number of nodes: 4\n",
      "Iter: 56 , number of nodes: 4\n",
      "Iter: 57 , number of nodes: 4\n",
      "Iter: 58 , number of nodes: 4\n",
      "Iter: 59 , number of nodes: 4\n",
      "Iter: 60 , number of nodes: 4\n",
      "Iter: 61 , number of nodes: 4\n",
      "Iter: 62 , number of nodes: 4\n",
      "Iter: 63 , number of nodes: 4\n",
      "Iter: 64 , number of nodes: 4\n",
      "Iter: 65 , number of nodes: 4\n",
      "Iter: 66 , number of nodes: 4\n",
      "Iter: 67 , number of nodes: 5\n",
      "Iter: 68 , number of nodes: 5\n",
      "Iter: 69 , number of nodes: 5\n",
      "Iter: 70 , number of nodes: 6\n",
      "Iter: 71 , number of nodes: 6\n",
      "Iter: 72 , number of nodes: 6\n",
      "Iter: 73 , number of nodes: 6\n",
      "Iter: 74 , number of nodes: 6\n",
      "Iter: 75 , number of nodes: 6\n",
      "Iter: 76 , number of nodes: 6\n",
      "Iter: 77 , number of nodes: 6\n",
      "Iter: 78 , number of nodes: 6\n",
      "Iter: 79 , number of nodes: 6\n"
     ]
    }
   ],
   "source": [
    "# Shelfino 0\n",
    "start = [0, 2, np.deg2rad(0.0)]\n",
    "goal = [0.18, -6.42, np.deg2rad(-90)]\n",
    "\n",
    "\n",
    "shelfino0_rrt = RRTStarDubins(start, goal, rand_area=[\n",
    "    rnd_min, rnd_max], obstacle_list=obstacleList, robot_radius=0.5)\n",
    "\n",
    "shelfino0_path = np.array(shelfino0_rrt.planning(\n",
    "    search_until_max_iter=False))[::-1]"
   ]
  },
  {
   "cell_type": "code",
   "execution_count": 271,
   "metadata": {},
   "outputs": [
    {
     "name": "stdout",
     "output_type": "stream",
     "text": [
      "Iter: 0 , number of nodes: 1\n",
      "Iter: 1 , number of nodes: 1\n",
      "Iter: 2 , number of nodes: 1\n",
      "Iter: 3 , number of nodes: 1\n",
      "Iter: 4 , number of nodes: 1\n",
      "Iter: 5 , number of nodes: 1\n",
      "Iter: 6 , number of nodes: 2\n",
      "Iter: 7 , number of nodes: 2\n",
      "Iter: 8 , number of nodes: 2\n",
      "Iter: 9 , number of nodes: 2\n",
      "Iter: 10 , number of nodes: 2\n",
      "Iter: 11 , number of nodes: 2\n"
     ]
    }
   ],
   "source": [
    "# Shelfino 0\n",
    "start = [2, -3, np.deg2rad(0.0)]\n",
    "goal = [0.18, -6.42, np.deg2rad(-90)]\n",
    "\n",
    "\n",
    "shelfino1_rrt = RRTStarDubins(start, goal, rand_area=[\n",
    "    rnd_min, rnd_max], obstacle_list=obstacleList, robot_radius=0.5)\n",
    "\n",
    "shelfino1_path = np.array(shelfino1_rrt.planning(\n",
    "    search_until_max_iter=False))[::-1]"
   ]
  },
  {
   "cell_type": "code",
   "execution_count": 272,
   "metadata": {},
   "outputs": [
    {
     "name": "stdout",
     "output_type": "stream",
     "text": [
      "Iter: 0 , number of nodes: 1\n"
     ]
    }
   ],
   "source": [
    "# Shelfino 0\n",
    "start = [-2, 0, np.deg2rad(0.0)]\n",
    "goal = [0.18, -6.42, np.deg2rad(-90)]\n",
    "\n",
    "\n",
    "shelfino2_rrt = RRTStarDubins(start, goal, rand_area=[\n",
    "    rnd_min, rnd_max], obstacle_list=obstacleList, robot_radius=0.5)\n",
    "\n",
    "shelfino2_path = np.array(shelfino2_rrt.planning(\n",
    "    search_until_max_iter=False))[::-1]"
   ]
  },
  {
   "cell_type": "code",
   "execution_count": 273,
   "metadata": {},
   "outputs": [],
   "source": [
    "shelfino1_path = shelfino2_path.copy()\n",
    "shelfino1_path[..., 0] = -shelfino1_path[..., 0]"
   ]
  },
  {
   "cell_type": "code",
   "execution_count": 274,
   "metadata": {},
   "outputs": [
    {
     "data": {
      "image/png": "[encoded data removed]",
      "text/plain": [
       "<Figure size 800x800 with 1 Axes>"
      ]
     },
     "metadata": {},
     "output_type": "display_data"
    }
   ],
   "source": [
    "plt.figure(figsize=(8, 8))\n",
    "plt.xlim(-10, 10)\n",
    "plt.ylim(-10, 10)\n",
    "\n",
    "plt.scatter(obstacleList[..., 0], obstacleList[..., 1])\n",
    "plt.scatter(goal[0], goal[1], color='red')\n",
    "# path0\n",
    "plt.plot([x for (x, y) in shelfino0_path], [\n",
    "         y for (x, y) in shelfino0_path], color=\"fuchsia\")\n",
    "plt.plot([x for (x, y) in shelfino1_path], [\n",
    "         y for (x, y) in shelfino1_path], color=\"purple\")\n",
    "plt.plot([x for (x, y) in shelfino2_path], [\n",
    "         y for (x, y) in shelfino2_path], color=\"orange\")\n",
    "plt.show()"
   ]
  },
  {
   "cell_type": "code",
   "execution_count": 275,
   "metadata": {},
   "outputs": [
    {
     "data": {
      "text/plain": [
       "(123, 56, 56)"
      ]
     },
     "execution_count": 275,
     "metadata": {},
     "output_type": "execute_result"
    }
   ],
   "source": [
    "shelfino0_path.shape[0], shelfino1_path.shape[0], shelfino2_path.shape[0]"
   ]
  },
  {
   "cell_type": "code",
   "execution_count": 276,
   "metadata": {},
   "outputs": [],
   "source": [
    "max_timestep = int(max(\n",
    "    shelfino0_path.shape[0], shelfino1_path.shape[0], shelfino2_path.shape[0],) * 2)"
   ]
  },
  {
   "cell_type": "code",
   "execution_count": 277,
   "metadata": {},
   "outputs": [],
   "source": [
    "collision_delay = 2"
   ]
  },
  {
   "cell_type": "code",
   "execution_count": 278,
   "metadata": {},
   "outputs": [],
   "source": [
    "path0_delay = 0\n",
    "path1_delay = 0\n",
    "path2_delay = 0"
   ]
  },
  {
   "cell_type": "code",
   "execution_count": 279,
   "metadata": {},
   "outputs": [],
   "source": [
    "check_collision = True"
   ]
  },
  {
   "cell_type": "code",
   "execution_count": 280,
   "metadata": {},
   "outputs": [
    {
     "name": "stdout",
     "output_type": "stream",
     "text": [
      "checking...\n",
      "checking...\n",
      "checking...\n",
      "NO collisions\n"
     ]
    }
   ],
   "source": [
    "while check_collision:\n",
    "    print(\"checking...\")\n",
    "\n",
    "    path0_eq = np.full((max_timestep, 2), np.nan)\n",
    "    path0_eq[0:path0_delay] = shelfino0_path[0]\n",
    "    path0_eq[path0_delay:shelfino0_path.shape[0]+path0_delay] = shelfino0_path\n",
    "\n",
    "    path1_eq = np.full((max_timestep, 2), np.nan)\n",
    "    path1_eq[0:path1_delay] = shelfino1_path[0]\n",
    "    path1_eq[path1_delay:shelfino1_path.shape[0]+path1_delay] = shelfino1_path\n",
    "\n",
    "    path2_eq = np.full((max_timestep, 2), np.nan)\n",
    "    path2_eq[0:path2_delay] = shelfino2_path[0]\n",
    "    path2_eq[path2_delay:shelfino2_path.shape[0]+path2_delay] = shelfino2_path\n",
    "\n",
    "    dist = np.stack([\n",
    "        np.linalg.norm(path0_eq-path1_eq, axis=-1),  # path0, path1\n",
    "        np.linalg.norm(path0_eq-path2_eq, axis=-1),  # path0, path2\n",
    "        np.linalg.norm(path1_eq-path2_eq, axis=-1)],  # path1, path2\n",
    "        axis=1)\n",
    "\n",
    "    collisions = np.where((dist < 0.35) & (dist != np.nan))\n",
    "\n",
    "    if collisions[1].shape[0] > 0:\n",
    "        collision_case = collisions[1][0]\n",
    "        if collision_case == 0:  # collision between 0 and 1\n",
    "            if (shelfino0_path.shape[0] < shelfino1_path.shape[0]):\n",
    "                path0_delay += collision_delay\n",
    "            else:\n",
    "                path1_delay += collision_delay\n",
    "        elif collision_case == 1:  # collision between 0 and 2\n",
    "            if (shelfino0_path.shape[0] < shelfino2_path.shape[0]):\n",
    "                path0_delay += collision_delay\n",
    "            else:\n",
    "                path2_delay += collision_delay\n",
    "        elif collision_case == 2:  # collision between 1 and 2\n",
    "            if (shelfino1_path.shape[0] < shelfino2_path.shape[0]):\n",
    "                path1_delay += collision_delay\n",
    "            else:\n",
    "                path2_delay += collision_delay\n",
    "    else:\n",
    "        check_collision = False  # no collision founded\n",
    "        print(\"NO collisions\")\n",
    "        shelfino0_path = path0_eq[:shelfino0_path.shape[0]+path0_delay]\n",
    "        shelfino1_path = path1_eq[:shelfino1_path.shape[0]+path1_delay]\n",
    "        shelfino2_path = path2_eq[:shelfino2_path.shape[0]+path2_delay]"
   ]
  },
  {
   "cell_type": "code",
   "execution_count": 281,
   "metadata": {},
   "outputs": [
    {
     "data": {
      "text/plain": [
       "(0, 0, 4)"
      ]
     },
     "execution_count": 281,
     "metadata": {},
     "output_type": "execute_result"
    }
   ],
   "source": [
    "path0_delay, path1_delay, path2_delay"
   ]
  },
  {
   "cell_type": "code",
   "execution_count": 283,
   "metadata": {},
   "outputs": [
    {
     "data": {
      "text/plain": [
       "array([[-2.00000000e+00,  0.00000000e+00],\n",
       "       [-2.00000000e+00,  0.00000000e+00],\n",
       "       [-2.00000000e+00,  0.00000000e+00],\n",
       "       [-2.00000000e+00,  0.00000000e+00],\n",
       "       [-2.00000000e+00,  0.00000000e+00],\n",
       "       [-2.00000000e+00,  0.00000000e+00],\n",
       "       [-1.86688878e+00, -6.66111296e-03],\n",
       "       [-1.73510756e+00, -2.65778962e-02],\n",
       "       [-1.60597306e+00, -5.95513478e-02],\n",
       "       [-1.48077554e+00, -1.05252008e-01],\n",
       "       [-1.36076595e+00, -1.63223251e-01],\n",
       "       [-1.24714337e+00, -2.32885847e-01],\n",
       "       [-1.14104308e+00, -3.13543750e-01],\n",
       "       [-1.04352521e+00, -4.04391054e-01],\n",
       "       [-9.55564120e-01, -5.04520042e-01],\n",
       "       [-8.78038687e-01, -6.12930259e-01],\n",
       "       [-8.11723520e-01, -7.28538505e-01],\n",
       "       [-7.57281219e-01, -8.50189661e-01],\n",
       "       [-7.15255753e-01, -9.76668229e-01],\n",
       "       [-6.84761543e-01, -1.11441422e+00],\n",
       "       [-6.62869631e-01, -1.24593806e+00],\n",
       "       [-6.40977720e-01, -1.37746191e+00],\n",
       "       [-6.19085809e-01, -1.50898576e+00],\n",
       "       [-5.97193897e-01, -1.64050960e+00],\n",
       "       [-5.75301986e-01, -1.77203345e+00],\n",
       "       [-5.53410074e-01, -1.90355729e+00],\n",
       "       [-5.31518163e-01, -2.03508114e+00],\n",
       "       [-5.09626252e-01, -2.16660498e+00],\n",
       "       [-4.87734340e-01, -2.29812883e+00],\n",
       "       [-4.65842429e-01, -2.42965268e+00],\n",
       "       [-4.43950517e-01, -2.56117652e+00],\n",
       "       [-4.22058606e-01, -2.69270037e+00],\n",
       "       [-4.00166694e-01, -2.82422421e+00],\n",
       "       [-3.78274783e-01, -2.95574806e+00],\n",
       "       [-3.56382872e-01, -3.08727191e+00],\n",
       "       [-3.34490960e-01, -3.21879575e+00],\n",
       "       [-3.12599049e-01, -3.35031960e+00],\n",
       "       [-2.90707137e-01, -3.48184344e+00],\n",
       "       [-2.68815226e-01, -3.61336729e+00],\n",
       "       [-2.46923315e-01, -3.74489113e+00],\n",
       "       [-2.25031403e-01, -3.87641498e+00],\n",
       "       [-2.03139492e-01, -4.00793883e+00],\n",
       "       [-1.81247580e-01, -4.13946267e+00],\n",
       "       [-1.59355669e-01, -4.27098652e+00],\n",
       "       [-1.37463758e-01, -4.40251036e+00],\n",
       "       [-1.15571846e-01, -4.53403421e+00],\n",
       "       [-9.36799347e-02, -4.66555805e+00],\n",
       "       [-7.17880233e-02, -4.79708190e+00],\n",
       "       [-4.98961119e-02, -4.92860575e+00],\n",
       "       [-2.80042005e-02, -5.06012959e+00],\n",
       "       [-6.11228909e-03, -5.19165344e+00],\n",
       "       [ 1.57796223e-02, -5.32317728e+00],\n",
       "       [ 3.76715337e-02, -5.45470113e+00],\n",
       "       [ 5.95634451e-02, -5.58622497e+00],\n",
       "       [ 8.14553566e-02, -5.71774882e+00],\n",
       "       [ 1.03347268e-01, -5.84927267e+00],\n",
       "       [ 1.25239179e-01, -5.98079651e+00],\n",
       "       [ 1.61905124e-01, -6.20108089e+00],\n",
       "       [ 1.80000000e-01, -6.42000000e+00],\n",
       "       [ 1.80000000e-01, -6.42000000e+00]])"
      ]
     },
     "execution_count": 283,
     "metadata": {},
     "output_type": "execute_result"
    }
   ],
   "source": [
    "shelfino2_path"
   ]
  }
 ],
 "metadata": {
  "kernelspec": {
   "display_name": "jumpleg",
   "language": "python",
   "name": "python3"
  },
  "language_info": {
   "codemirror_mode": {
    "name": "ipython",
    "version": 3
   },
   "file_extension": ".py",
   "mimetype": "text/x-python",
   "name": "python",
   "nbconvert_exporter": "python",
   "pygments_lexer": "ipython3",
   "version": "3.9.16"
  }
 },
 "nbformat": 4,
 "nbformat_minor": 2
}
