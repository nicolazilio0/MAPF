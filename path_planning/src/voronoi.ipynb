{
 "cells": [
  {
   "cell_type": "code",
   "execution_count": 1,
   "metadata": {},
   "outputs": [
    {
     "name": "stdout",
     "output_type": "stream",
     "text": [
      "Collecting voronoi\n",
      "  Downloading voronoi-0.4.0-cp39-cp39-manylinux_2_17_x86_64.manylinux2014_x86_64.whl (3.7 MB)\n",
      "\u001b[2K     \u001b[38;2;114;156;31m━━━━━━━━━━━━━━━━━━━━━━━━━━━━━━━━━━━━━━━━\u001b[0m \u001b[32m3.7/3.7 MB\u001b[0m \u001b[31m102.6 kB/s\u001b[0m eta \u001b[36m0:00:00\u001b[0mm eta \u001b[36m0:00:01\u001b[0m[36m0:00:01\u001b[0m\n",
      "\u001b[?25hCollecting prioq<1.0,>=0.6.0\n",
      "  Downloading prioq-0.6.0-py3-none-any.whl (7.6 kB)\n",
      "Collecting reprit<1.0,>=0.8.0\n",
      "  Downloading reprit-0.9.0-py3-none-any.whl (10 kB)\n",
      "Collecting dendroid<2.0,>=1.6.1\n",
      "  Downloading dendroid-1.6.1-py3-none-any.whl (21 kB)\n",
      "Requirement already satisfied: typing-extensions<5.0,>=4.5.0 in /home/riccardo/anaconda3/envs/jumpleg/lib/python3.9/site-packages (from dendroid<2.0,>=1.6.1->voronoi) (4.5.0)\n",
      "Installing collected packages: reprit, prioq, dendroid, voronoi\n",
      "Successfully installed dendroid-1.6.1 prioq-0.6.0 reprit-0.9.0 voronoi-0.4.0\n"
     ]
    }
   ],
   "source": [
    "! pip install voronoi"
   ]
  },
  {
   "cell_type": "code",
   "execution_count": 2,
   "metadata": {},
   "outputs": [],
   "source": [
    "import matplotlib.pyplot as plt "
   ]
  },
  {
   "cell_type": "code",
   "execution_count": 3,
   "metadata": {},
   "outputs": [],
   "source": [
    "from voronoi.point import Point\n",
    "from voronoi.segment import Segment\n",
    "from voronoi.diagram import Diagram\n",
    "from voronoi.faces import Vertex"
   ]
  },
  {
   "cell_type": "code",
   "execution_count": 82,
   "metadata": {},
   "outputs": [],
   "source": [
    "def delete_vertex(vertex, obstacles):\n",
    "    vertex = [vertex.x, vertex.y]\n",
    "    dlt_veretx = False\n",
    "    for obs in obstacles:\n",
    "        dlt_veretx = vertex in obs\n",
    "        if dlt_veretx:\n",
    "            break\n",
    "    return dlt_veretx\n"
   ]
  },
  {
   "cell_type": "code",
   "execution_count": 67,
   "metadata": {},
   "outputs": [],
   "source": [
    "obstacles = [[[-2,-2],[8,-2], [8,8], [-2,8]],[[0,0],[2,0], [2,2], [0,2]],[[3,3],[6,3], [6,6], [3,6]]]"
   ]
  },
  {
   "cell_type": "code",
   "execution_count": 55,
   "metadata": {},
   "outputs": [],
   "source": [
    "segments = []"
   ]
  },
  {
   "cell_type": "code",
   "execution_count": 56,
   "metadata": {},
   "outputs": [
    {
     "data": {
      "image/png": "[encoded data removed]",
      "text/plain": [
       "<Figure size 640x480 with 1 Axes>"
      ]
     },
     "metadata": {},
     "output_type": "display_data"
    }
   ],
   "source": [
    "for obstacle in obstacles:\n",
    "    for ix in range(0,len(obstacle)-1):\n",
    "        p1 = obstacle[ix]\n",
    "        p2 = obstacle[ix+1]\n",
    "        plt.plot([p1[0],p2[0]], [p1[1],p2[1]],  color = 'blue')\n",
    "        segments.append(Segment(Point(p1[0],p1[1]),Point(p2[0],p2[1])))\n",
    "\n",
    "    p1 = obstacle[0]\n",
    "    p2 = obstacle[-1]\n",
    "    plt.plot([p1[0],p2[0]], [p1[1],p2[1]],  color = 'blue')\n",
    "    segments.append(Segment(Point(p1[0],p1[1]),Point(p2[0],p2[1])))\n",
    "\n",
    "diagram = Diagram()\n",
    "diagram.construct([], segments)\n",
    "\n",
    "filtered_edges = [edge for edge in diagram.edges if edge.is_finite and edge.is_primary]\n",
    "\n",
    "for edge in filtered_edges:\n",
    "    start = edge.start\n",
    "    end = edge.end\n",
    "\n",
    "    if delete_vertex(start, obstacles) or delete_vertex(end, obstacles):\n",
    "        pass\n",
    "    else:\n",
    "        plt.plot([start.x, end.x],[start.y, end.y], color='blue')\n",
    "\n",
    "plt.show()"
   ]
  },
  {
   "cell_type": "code",
   "execution_count": null,
   "metadata": {},
   "outputs": [],
   "source": []
  }
 ],
 "metadata": {
  "kernelspec": {
   "display_name": "robotic",
   "language": "python",
   "name": "python3"
  },
  "language_info": {
   "codemirror_mode": {
    "name": "ipython",
    "version": 3
   },
   "file_extension": ".py",
   "mimetype": "text/x-python",
   "name": "python",
   "nbconvert_exporter": "python",
   "pygments_lexer": "ipython3",
   "version": "3.9.16"
  }
 },
 "nbformat": 4,
 "nbformat_minor": 2
}
